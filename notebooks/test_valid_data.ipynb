{
 "cells": [
  {
   "cell_type": "code",
   "execution_count": 18,
   "id": "1be098e7-4e49-471e-b21a-f245be14666f",
   "metadata": {},
   "outputs": [],
   "source": [
    "import pickle as pk\n",
    "from tqdm import tqdm\n",
    "import cv2\n",
    "import os\n",
    "import numpy as np"
   ]
  },
  {
   "cell_type": "code",
   "execution_count": 19,
   "id": "f94bf785-3754-4fc6-9b44-0f01d606a05a",
   "metadata": {},
   "outputs": [],
   "source": [
    "with open(\"./outputs/data/data_sampled_w_duplications_shuffled.pkl\", \"rb\") as f:\n",
    "    X_data, Y_data = pk.load(f)"
   ]
  },
  {
   "cell_type": "code",
   "execution_count": 20,
   "id": "3a476377-0d95-4bd2-886e-85875c0a5e07",
   "metadata": {},
   "outputs": [
    {
     "name": "stderr",
     "output_type": "stream",
     "text": [
      "86352it [00:00, 1803053.35it/s]\n"
     ]
    }
   ],
   "source": [
    "for x, y in tqdm(zip(X_data, Y_data)):\n",
    "    assert str(y) in x\n",
    "    # break"
   ]
  },
  {
   "cell_type": "code",
   "execution_count": 23,
   "id": "e14b8e5b-4899-49b7-b69d-9b96b7d38401",
   "metadata": {},
   "outputs": [],
   "source": [
    "def change_ext(s: str) -> str:\n",
    "    file, ext = s.rsplit(\".\")\n",
    "    ext = \"gif\" if ext == \"mp4\" else \"mp4\"\n",
    "    return f\"{file}.{ext}\""
   ]
  },
  {
   "cell_type": "code",
   "execution_count": 21,
   "id": "d6ead3b1-7a41-41e2-adfc-df2f7132cd30",
   "metadata": {
    "scrolled": true
   },
   "outputs": [
    {
     "name": "stderr",
     "output_type": "stream",
     "text": [
      "100%|██████████| 86352/86352 [04:44<00:00, 303.31it/s]\n"
     ]
    },
    {
     "data": {
      "text/plain": [
       "(30,\n",
       " [np.str_('/home/lehoangchibach/Documents/Code/gif_analytics/templates/outputs/template_examples/0cfe0ef3a357503c4a4538414b870ca1_198102170.gif'),\n",
       "  np.str_('/home/lehoangchibach/Documents/Code/gif_analytics/templates/outputs/template_examples/b5d3b8edf24ec9c63f47dd40fc3fed52_198102170.gif'),\n",
       "  np.str_('/home/lehoangchibach/Documents/Code/gif_analytics/templates/outputs/template_examples/bafd7322c6e97d25b6299b5d6fe8920b_173111998.gif'),\n",
       "  np.str_('/home/lehoangchibach/Documents/Code/gif_analytics/templates/outputs/template_examples/f787c539482db0981a8a93bcdfb6bfff_198102170.gif'),\n",
       "  np.str_('/home/lehoangchibach/Documents/Code/gif_analytics/templates/outputs/template_examples/5471e1dc0543c1a16d33b7d413011612_198102170.gif'),\n",
       "  np.str_('/home/lehoangchibach/Documents/Code/gif_analytics/templates/outputs/template_examples/6ea4dc5cd6a84ef12b677bbaabc9fc6f_472228575.gif'),\n",
       "  np.str_('/home/lehoangchibach/Documents/Code/gif_analytics/templates/outputs/template_examples/4f4e828b7be85bd5ad61de34aa7b48af_198102170.gif'),\n",
       "  np.str_('/home/lehoangchibach/Documents/Code/gif_analytics/templates/outputs/template_examples/04079c51deb1537e7520db69523a744b_198102170.gif'),\n",
       "  np.str_('/home/lehoangchibach/Documents/Code/gif_analytics/templates/outputs/template_examples/a195b7c9fc241f3da0599717060f898d_198102170.gif'),\n",
       "  np.str_('/home/lehoangchibach/Documents/Code/gif_analytics/templates/outputs/template_examples/6fddce342db5b0d3b5335bd4855ef1e3_198102170.gif'),\n",
       "  np.str_('/home/lehoangchibach/Documents/Code/gif_analytics/templates/outputs/template_examples/85e6daeed0612e8d2510b9b85b58e91b_198102170.gif'),\n",
       "  np.str_('/home/lehoangchibach/Documents/Code/gif_analytics/templates/outputs/template_examples/ab9ee5f09d68fc5c796913fa6c7d1c8f_198102170.gif'),\n",
       "  np.str_('/home/lehoangchibach/Documents/Code/gif_analytics/templates/outputs/template_examples/1d5f339c859057ae09d509a2d4ca3d13_198102170.gif'),\n",
       "  np.str_('/home/lehoangchibach/Documents/Code/gif_analytics/templates/outputs/template_examples/f97925652e4da2276ea64366fde45cca_198102170.gif'),\n",
       "  np.str_('/home/lehoangchibach/Documents/Code/gif_analytics/templates/outputs/template_examples/fafb624a48b13b3516676a275c9aed31_198102170.gif'),\n",
       "  np.str_('/home/lehoangchibach/Documents/Code/gif_analytics/templates/outputs/template_examples/1901e402e3e90004a07911430414f9c8_198102170.gif'),\n",
       "  np.str_('/home/lehoangchibach/Documents/Code/gif_analytics/templates/outputs/template_examples/31c8cc93574d17694e0b8002e038e4d9_198102170.gif'),\n",
       "  np.str_('/home/lehoangchibach/Documents/Code/gif_analytics/templates/outputs/template_examples/26f005fa864d50d584590486c0dbedaa_198102170.gif'),\n",
       "  np.str_('/home/lehoangchibach/Documents/Code/gif_analytics/templates/outputs/template_examples/9bdab232b99d01b1765d317326f3ff11_198102170.gif'),\n",
       "  np.str_('/home/lehoangchibach/Documents/Code/gif_analytics/templates/outputs/template_examples/4cdb5fb301adeb87064a168c2bcd7f08_198102170.gif'),\n",
       "  np.str_('/home/lehoangchibach/Documents/Code/gif_analytics/templates/outputs/template_examples/e0046648e915851d608a1f7244ac4a2a_198102170.gif'),\n",
       "  np.str_('/home/lehoangchibach/Documents/Code/gif_analytics/templates/outputs/template_examples/fb622148839fd19298d74adf9818198b_522352213.gif'),\n",
       "  np.str_('/home/lehoangchibach/Documents/Code/gif_analytics/templates/outputs/template_examples/13d15a02c78241a10ae5f6629245127e_198102170.gif'),\n",
       "  np.str_('/home/lehoangchibach/Documents/Code/gif_analytics/templates/outputs/template_examples/944ba223a5c1b5f4b495708e7cd5ee37_198102170.gif'),\n",
       "  np.str_('/home/lehoangchibach/Documents/Code/gif_analytics/templates/outputs/template_examples/aa4331f12017d9d663aa34152f70a4d6_173111998.gif'),\n",
       "  np.str_('/home/lehoangchibach/Documents/Code/gif_analytics/templates/outputs/template_examples/e52f820da180d0d1de788254515f3bdb_198102170.gif'),\n",
       "  np.str_('/home/lehoangchibach/Documents/Code/gif_analytics/templates/outputs/template_examples/93f725a07423fe1c889f448b33d21f46_198102170.gif'),\n",
       "  np.str_('/home/lehoangchibach/Documents/Code/gif_analytics/templates/outputs/template_examples/888460de498899a617b563505b37e2ea_198102170.gif'),\n",
       "  np.str_('/home/lehoangchibach/Documents/Code/gif_analytics/templates/outputs/template_examples/fb622148839fd19298d74adf9818198b_522352213.gif'),\n",
       "  np.str_('/home/lehoangchibach/Documents/Code/gif_analytics/templates/outputs/template_examples/6ea4dc5cd6a84ef12b677bbaabc9fc6f_472228575.gif')])"
      ]
     },
     "execution_count": 21,
     "metadata": {},
     "output_type": "execute_result"
    }
   ],
   "source": [
    "invalids = []\n",
    "done = False\n",
    "for video_path in tqdm(X_data):\n",
    "    cap = cv2.VideoCapture(video_path)\n",
    "    total_frames = int(cap.get(cv2.CAP_PROP_FRAME_COUNT))\n",
    "\n",
    "    if total_frames <= 0:\n",
    "        invalids.append(video_path)\n",
    "\n",
    "done = True\n",
    "len(invalids), invalids"
   ]
  },
  {
   "cell_type": "code",
   "execution_count": 29,
   "id": "fcd3ff85-ecc9-47d4-83f1-bc3c2dbdf5b0",
   "metadata": {
    "scrolled": true
   },
   "outputs": [
    {
     "name": "stderr",
     "output_type": "stream",
     "text": [
      "100%|██████████| 30/30 [00:00<00:00, 7871.70it/s]\n"
     ]
    },
    {
     "data": {
      "text/plain": [
       "(30,\n",
       " [[27150,\n",
       "   np.str_('/home/lehoangchibach/Documents/Code/gif_analytics/templates/outputs/template_examples/fb622148839fd19298d74adf9818198b_522352213.gif')],\n",
       "  [27150,\n",
       "   np.str_('/home/lehoangchibach/Documents/Code/gif_analytics/templates/outputs/template_examples/fb622148839fd19298d74adf9818198b_522352213.gif')]])"
      ]
     },
     "execution_count": 29,
     "metadata": {},
     "output_type": "execute_result"
    }
   ],
   "source": [
    "_invalids = []\n",
    "size = []\n",
    "_done = False\n",
    "for video_path in tqdm(invalids):\n",
    "    # video_path = change_ext(video_path)\n",
    "    cap = cv2.VideoCapture(video_path)\n",
    "    total_frames = int(cap.get(cv2.CAP_PROP_FRAME_COUNT))\n",
    "\n",
    "    if total_frames <= 0:\n",
    "        _invalids.append(video_path)\n",
    "        if os.path.exists(video_path):\n",
    "            size.append([os.path.getsize(video_path), video_path])\n",
    "\n",
    "_done = True\n",
    "len(_invalids), size"
   ]
  },
  {
   "cell_type": "code",
   "execution_count": 35,
   "id": "27dd3c80-d09b-4262-97be-a4af21cc02e8",
   "metadata": {
    "scrolled": true
   },
   "outputs": [
    {
     "data": {
      "text/plain": [
       "30"
      ]
     },
     "execution_count": 35,
     "metadata": {},
     "output_type": "execute_result"
    }
   ],
   "source": [
    "len(invalids)"
   ]
  },
  {
   "cell_type": "code",
   "execution_count": 36,
   "id": "b17415c9-b5c1-4d37-8afa-b67cabd788c6",
   "metadata": {},
   "outputs": [],
   "source": [
    "invalids_set = set(invalids)"
   ]
  },
  {
   "cell_type": "code",
   "execution_count": 37,
   "id": "389ffd61-4f16-46e6-ba71-5e00599e2d25",
   "metadata": {},
   "outputs": [
    {
     "name": "stderr",
     "output_type": "stream",
     "text": [
      "86352it [00:00, 2527065.01it/s]\n"
     ]
    }
   ],
   "source": [
    "idxes = []\n",
    "for i, x in tqdm(enumerate(X_data)):\n",
    "    if x in invalids_set:\n",
    "        idxes.append(i)"
   ]
  },
  {
   "cell_type": "code",
   "execution_count": 38,
   "id": "45a5a1b9-3d40-4662-a924-5b3641b1e35a",
   "metadata": {},
   "outputs": [
    {
     "data": {
      "text/plain": [
       "((86352,), (86352,))"
      ]
     },
     "execution_count": 38,
     "metadata": {},
     "output_type": "execute_result"
    }
   ],
   "source": [
    "X_data.shape, Y_data.shape"
   ]
  },
  {
   "cell_type": "code",
   "execution_count": 39,
   "id": "e8a50982-ac65-4e44-aa5e-9fb94644cfff",
   "metadata": {},
   "outputs": [
    {
     "data": {
      "text/plain": [
       "[37332, 32850, 19250, 19213, 19026, 18560, 17788, 15161, 14042, 11703]"
      ]
     },
     "execution_count": 39,
     "metadata": {},
     "output_type": "execute_result"
    }
   ],
   "source": [
    "idxes.sort(reverse=True)\n",
    "idxes[:10]"
   ]
  },
  {
   "cell_type": "code",
   "execution_count": 40,
   "id": "e81c824f-3b1b-46e1-bf0b-30a5b65b71b8",
   "metadata": {
    "scrolled": true
   },
   "outputs": [],
   "source": [
    "X_data = np.delete(X_data, idxes)\n",
    "Y_data = np.delete(Y_data, idxes)"
   ]
  },
  {
   "cell_type": "code",
   "execution_count": 41,
   "id": "5c1f4652-773d-469a-bc85-b715aa047148",
   "metadata": {},
   "outputs": [
    {
     "data": {
      "text/plain": [
       "((86322,), (86322,))"
      ]
     },
     "execution_count": 41,
     "metadata": {},
     "output_type": "execute_result"
    }
   ],
   "source": [
    "X_data.shape, Y_data.shape"
   ]
  },
  {
   "cell_type": "code",
   "execution_count": 42,
   "id": "6836f5fd-535f-4895-a5ac-00c88fd928ee",
   "metadata": {},
   "outputs": [],
   "source": [
    "data = [X_data, Y_data]\n",
    "with open(\n",
    "    \"./outputs/data/data_sampled_w_duplications_shuffled_removed_invalids.pkl\", \"wb\"\n",
    ") as f:\n",
    "    pk.dump(data, f)"
   ]
  },
  {
   "cell_type": "code",
   "execution_count": 34,
   "id": "86d0a865-01ec-467d-8c72-d4feedfdab12",
   "metadata": {},
   "outputs": [
    {
     "data": {
      "text/plain": [
       "(array([ 1,  2,  3,  4,  5,  6,  7,  8,  9, 10]),\n",
       " array([ 1,  4,  5,  6,  7,  8,  9, 10]))"
      ]
     },
     "execution_count": 34,
     "metadata": {},
     "output_type": "execute_result"
    }
   ],
   "source": [
    "test_arr = np.array(range(10)) + 1\n",
    "del_test_arr = np.delete(test_arr, [1, 2])\n",
    "test_arr, del_test_arr"
   ]
  },
  {
   "cell_type": "code",
   "execution_count": 43,
   "id": "0e90943a-e221-4710-bdab-29cb14a86777",
   "metadata": {},
   "outputs": [
    {
     "name": "stderr",
     "output_type": "stream",
     "text": [
      "100%|██████████| 86322/86322 [04:34<00:00, 314.08it/s]\n"
     ]
    },
    {
     "data": {
      "text/plain": [
       "(0, [])"
      ]
     },
     "execution_count": 43,
     "metadata": {},
     "output_type": "execute_result"
    }
   ],
   "source": [
    "invalids = []\n",
    "done = False\n",
    "for video_path in tqdm(X_data):\n",
    "    cap = cv2.VideoCapture(video_path)\n",
    "    total_frames = int(cap.get(cv2.CAP_PROP_FRAME_COUNT))\n",
    "\n",
    "    if total_frames <= 0:\n",
    "        invalids.append(video_path)\n",
    "\n",
    "done = True\n",
    "len(invalids), invalids"
   ]
  },
  {
   "cell_type": "code",
   "execution_count": null,
   "id": "af88e877-0e20-4493-8115-203eb92aff69",
   "metadata": {},
   "outputs": [],
   "source": []
  }
 ],
 "metadata": {
  "kernelspec": {
   "display_name": "Python 3 (ipykernel)",
   "language": "python",
   "name": "python3"
  },
  "language_info": {
   "codemirror_mode": {
    "name": "ipython",
    "version": 3
   },
   "file_extension": ".py",
   "mimetype": "text/x-python",
   "name": "python",
   "nbconvert_exporter": "python",
   "pygments_lexer": "ipython3",
   "version": "3.11.8"
  }
 },
 "nbformat": 4,
 "nbformat_minor": 5
}
