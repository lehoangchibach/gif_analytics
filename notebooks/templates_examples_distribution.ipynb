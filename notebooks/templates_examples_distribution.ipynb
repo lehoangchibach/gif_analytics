{
 "cells": [
  {
   "cell_type": "code",
   "execution_count": 26,
   "id": "18b30c0c-e2cb-4eb6-801e-f21c077c81b0",
   "metadata": {},
   "outputs": [],
   "source": [
    "import hashlib\n",
    "import json\n",
    "\n",
    "import matplotlib.pyplot as plt\n",
    "import numpy as np\n",
    "import requests\n",
    "from tqdm import tqdm\n",
    "\n",
    "from collections import Counter\n",
    "import os\n",
    "from thefuzz import fuzz"
   ]
  },
  {
   "cell_type": "code",
   "execution_count": 2,
   "id": "0004b1f2-1ece-4b2f-b2a0-0a1dbb998a52",
   "metadata": {},
   "outputs": [
    {
     "data": {
      "text/plain": [
       "5113"
      ]
     },
     "execution_count": 2,
     "metadata": {},
     "output_type": "execute_result"
    }
   ],
   "source": [
    "with open(\"../templates/metadata_w_examples.json\") as f:\n",
    "    metadatas = json.load(f)\n",
    "len(metadatas)"
   ]
  },
  {
   "cell_type": "code",
   "execution_count": 47,
   "id": "b177416f-6501-4b5d-9a03-643c316e6ca5",
   "metadata": {},
   "outputs": [
    {
     "name": "stdout",
     "output_type": "stream",
     "text": [
      "Size: 5113\n",
      "Temps: 5113\n",
      "Examples: 15255\n",
      "Orphan: 0\n",
      "0 Counter()\n"
     ]
    }
   ],
   "source": [
    "directory = \"../templates/template_examples\"\n",
    "\n",
    "print(\"Size:\", len(metadatas))\n",
    "\n",
    "temp_ids = set()\n",
    "for metadata in metadatas:\n",
    "    temp_ids.add(metadata[\"Template ID\"])\n",
    "\n",
    "print(\"Temps:\", len(temp_ids))\n",
    "\n",
    "examples = os.listdir(directory)\n",
    "print(\"Examples:\", len(examples))\n",
    "orphans = []\n",
    "for file in examples:\n",
    "    temp_id = file.split(\"_\")[1].split(\".\")[0]\n",
    "    if temp_id not in temp_ids:\n",
    "        orphans.append(temp_id)\n",
    "        # os.remove(f\"{directory}/{file}\")\n",
    "\n",
    "print(\"Orphan:\", len(orphans))\n",
    "print(len(Counter(orphans)), Counter(orphans))"
   ]
  },
  {
   "cell_type": "code",
   "execution_count": 48,
   "id": "5659519d-20d1-46cc-9055-ec67d7a86a6d",
   "metadata": {},
   "outputs": [],
   "source": [
    "exp_cnts = []\n",
    "for metadata in metadatas:\n",
    "    exp_cnts.append(len(metadata[\"examples\"]))"
   ]
  },
  {
   "cell_type": "code",
   "execution_count": 58,
   "id": "7650b995-f435-4cd8-aa92-4095182f1daa",
   "metadata": {},
   "outputs": [
    {
     "data": {
      "text/plain": [
       "Counter({0: 2175,\n",
       "         1: 915,\n",
       "         2: 457,\n",
       "         14: 298,\n",
       "         3: 266,\n",
       "         4: 202,\n",
       "         6: 123,\n",
       "         5: 123,\n",
       "         13: 112,\n",
       "         7: 92,\n",
       "         8: 75,\n",
       "         10: 55,\n",
       "         12: 47,\n",
       "         9: 47,\n",
       "         11: 40,\n",
       "         15: 15,\n",
       "         28: 10,\n",
       "         18: 8,\n",
       "         16: 7,\n",
       "         17: 7,\n",
       "         21: 5,\n",
       "         20: 5,\n",
       "         19: 5,\n",
       "         24: 4,\n",
       "         27: 4,\n",
       "         26: 3,\n",
       "         29: 3,\n",
       "         22: 2,\n",
       "         32: 2,\n",
       "         30: 2,\n",
       "         23: 1,\n",
       "         34: 1,\n",
       "         25: 1,\n",
       "         35: 1})"
      ]
     },
     "execution_count": 58,
     "metadata": {},
     "output_type": "execute_result"
    }
   ],
   "source": [
    "Counter(exp_cnts)"
   ]
  },
  {
   "cell_type": "code",
   "execution_count": 60,
   "id": "f3dfa0e0-7394-430d-9b64-ca7aef21a0a4",
   "metadata": {},
   "outputs": [
    {
     "data": {
      "image/png": "[encoded data removed]",
      "text/plain": [
       "<Figure size 640x480 with 1 Axes>"
      ]
     },
     "metadata": {},
     "output_type": "display_data"
    }
   ],
   "source": [
    "plt.hist(exp_cnts, bins=36)\n",
    "plt.xlabel(\"#Examples\")\n",
    "plt.ylabel(\"Count\")\n",
    "plt.title(\"Distribution of example per templates\")\n",
    "plt.savefig(\"Distribution of examples.png\")"
   ]
  },
  {
   "cell_type": "code",
   "execution_count": null,
   "id": "d1246e54-70f3-4cf6-ad50-e49673d443b5",
   "metadata": {},
   "outputs": [],
   "source": []
  }
 ],
 "metadata": {
  "kernelspec": {
   "display_name": "Python 3 (ipykernel)",
   "language": "python",
   "name": "python3"
  },
  "language_info": {
   "codemirror_mode": {
    "name": "ipython",
    "version": 3
   },
   "file_extension": ".py",
   "mimetype": "text/x-python",
   "name": "python",
   "nbconvert_exporter": "python",
   "pygments_lexer": "ipython3",
   "version": "3.11.9"
  }
 },
 "nbformat": 4,
 "nbformat_minor": 5
}
