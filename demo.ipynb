{
 "cells": [
  {
   "cell_type": "code",
   "execution_count": 112,
   "id": "152c4ae6-0371-4d89-b02d-cba6fd123357",
   "metadata": {},
   "outputs": [],
   "source": [
    "import asyncio\n",
    "import os\n",
    "from datetime import datetime\n",
    "\n",
    "import aiohttp\n",
    "import nest_asyncio\n",
    "import requests\n",
    "from dotenv import load_dotenv\n",
    "import numpy as np\n",
    "import json"
   ]
  },
  {
   "cell_type": "code",
   "execution_count": 8,
   "id": "60fe7484-3a3d-4514-a203-33ce0a436d06",
   "metadata": {},
   "outputs": [],
   "source": [
    "load_dotenv()\n",
    "REDDIT_API_KEY = os.getenv(\"REDDIT_API_KEY\")"
   ]
  },
  {
   "cell_type": "code",
   "execution_count": 3,
   "id": "6de9e74f-8900-45d3-bd9f-c65828488fbe",
   "metadata": {
    "jupyter": {
     "source_hidden": true
    }
   },
   "outputs": [],
   "source": [
    "# async def fetch(url):\n",
    "#     async with aiohttp.ClientSession() as session:\n",
    "#         try:\n",
    "#             async with session.get(url) as response:\n",
    "#                 return await response.text()\n",
    "#         except aiohttp.ClientError as e:\n",
    "#             print(f\"An error occurred: {e}\")\n",
    "#             return None\n",
    "\n",
    "\n",
    "# async def main():\n",
    "#     urls = [\n",
    "#         \"https://www.reddit.com/r/meme/top.json?t=week\",\n",
    "#     ]\n",
    "#     tasks = [fetch(url) for url in urls]\n",
    "#     responses = await asyncio.gather(*tasks)\n",
    "#     for response in responses:\n",
    "#         if response:\n",
    "#             print(response)\n",
    "\n",
    "# nest_asyncio.apply()\n",
    "\n",
    "# loop = asyncio.get_event_loop()\n",
    "# res = loop.run_until_complete(main())"
   ]
  },
  {
   "cell_type": "code",
   "execution_count": 119,
   "id": "cf61c9f4-4280-4621-b272-6906f68b7b23",
   "metadata": {},
   "outputs": [],
   "source": [
    "response = requests.get(\"https://www.reddit.com/r/meme/top.json?t=year&limit=100&count=1\")"
   ]
  },
  {
   "cell_type": "code",
   "execution_count": 120,
   "id": "20f78d14-2f4e-4458-a905-4b30843d6638",
   "metadata": {
    "scrolled": true
   },
   "outputs": [],
   "source": [
    "data = response.json()[\"data\"][\"children\"]\n",
    "urls = []\n",
    "for i in range(len(data)):\n",
    "    urls.append(data[i][\"data\"][\"url\"])"
   ]
  },
  {
   "cell_type": "code",
   "execution_count": 121,
   "id": "cfeefa2b-5855-4eb3-aa7e-dc5eeb1d2987",
   "metadata": {},
   "outputs": [],
   "source": [
    "with open(\"response.txt\", \"w\") as f:\n",
    "    json.dump(response.json(), f)"
   ]
  },
  {
   "cell_type": "code",
   "execution_count": 122,
   "id": "8c5de250-c7ac-409e-9424-17642df308a1",
   "metadata": {},
   "outputs": [
    {
     "data": {
      "text/plain": [
       "array(['gif', 'jpeg', 'jpg', 'png'], dtype='<U4')"
      ]
     },
     "execution_count": 122,
     "metadata": {},
     "output_type": "execute_result"
    }
   ],
   "source": [
    "unique_exts = [url.split(\".\")[-1] for url in urls]\n",
    "np.unique(unique_exts)"
   ]
  },
  {
   "cell_type": "code",
   "execution_count": 123,
   "id": "1a84ba81-a6db-4fe7-8ef0-76aaa71f710f",
   "metadata": {
    "scrolled": true
   },
   "outputs": [
    {
     "data": {
      "text/plain": [
       "(13,\n",
       " ['https://i.redd.it/omngbrgql7va1.gif',\n",
       "  'https://i.redd.it/0keflgrg0l9b1.gif',\n",
       "  'https://i.redd.it/su5b20yn485b1.gif',\n",
       "  'https://i.redd.it/y4hhi0bym3lc1.gif',\n",
       "  'https://i.redd.it/76aoq5vyoa4b1.gif',\n",
       "  'https://i.redd.it/8ju9yyow8c7b1.gif',\n",
       "  'https://i.redd.it/voa84k3u3u4b1.gif',\n",
       "  'https://i.redd.it/3dvizlt3lr7b1.gif',\n",
       "  'https://i.redd.it/xz7i44vpr3691.gif',\n",
       "  'https://i.redd.it/fn5arg9wv1ta1.gif',\n",
       "  'https://i.redd.it/c8ou3c09iogc1.gif',\n",
       "  'https://i.redd.it/2rj9fn6zt17b1.gif',\n",
       "  'https://i.redd.it/jp1q9th4hf8b1.gif'])"
      ]
     },
     "execution_count": 123,
     "metadata": {},
     "output_type": "execute_result"
    }
   ],
   "source": [
    "filter_urls = [url for url in urls if url.split(\".\")[-1] not in {'jpeg', 'jpg', 'png'}]\n",
    "len(filter_urls), filter_urls"
   ]
  },
  {
   "cell_type": "code",
   "execution_count": 105,
   "id": "b4269b0f-334f-4c07-8511-9b37c48ddb0c",
   "metadata": {},
   "outputs": [],
   "source": [
    "for i, url in enumerate(filter_urls):\n",
    "    image = requests.get(url)\n",
    "    ext = url.split(\".\")[-1]\n",
    "    with open(f\"images/test_{i}.{ext}\", \"wb\") as f:\n",
    "        f.write(image.content)"
   ]
  },
  {
   "cell_type": "code",
   "execution_count": null,
   "id": "a862d6f8-8f24-4d0f-8f54-2e268c666fae",
   "metadata": {},
   "outputs": [],
   "source": []
  }
 ],
 "metadata": {
  "kernelspec": {
   "display_name": "Python 3 (ipykernel)",
   "language": "python",
   "name": "python3"
  },
  "language_info": {
   "codemirror_mode": {
    "name": "ipython",
    "version": 3
   },
   "file_extension": ".py",
   "mimetype": "text/x-python",
   "name": "python",
   "nbconvert_exporter": "python",
   "pygments_lexer": "ipython3",
   "version": "3.11.9"
  }
 },
 "nbformat": 4,
 "nbformat_minor": 5
}
